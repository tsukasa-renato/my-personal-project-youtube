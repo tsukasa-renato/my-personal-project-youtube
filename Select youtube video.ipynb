{
 "cells": [
  {
   "cell_type": "code",
   "execution_count": 7,
   "metadata": {},
   "outputs": [],
   "source": [
    "from youtube_api import YouTubeDataAPI\n",
    "import googleapiclient.discovery\n",
    "\n",
    "my_api_key = 'YOUR KEY'\n",
    "api_service_name = \"youtube\"\n",
    "api_version = \"v3\"\n",
    "\n",
    "youtube = googleapiclient.discovery.build(\n",
    "    api_service_name, api_version, developerKey = my_api_key)"
   ]
  },
  {
   "cell_type": "code",
   "execution_count": 17,
   "metadata": {},
   "outputs": [],
   "source": [
    "def select_videos(keyword, year):\n",
    "    \n",
    "    videos = youtube.search().list(\n",
    "        part='snippet',\n",
    "        q=keyword,\n",
    "        type='video',\n",
    "        regionCode='BR',\n",
    "        publishedAfter = year+'-01-01T00:00:00Z',\n",
    "        publishedBefore = year+'-12-31T00:00:00Z',\n",
    "        order = 'viewCount',\n",
    "        maxResults = 50\n",
    "                               ).execute()\n",
    "    \n",
    "    print('50 videos selected')\n",
    "    \n",
    "    return videos\n",
    "\n",
    "def collect_information(videos, keyword, year):\n",
    "    \n",
    "    information = '['\n",
    "    \n",
    "    for video in videos['items']:\n",
    "        \n",
    "        #print(video)\n",
    "        #print('\\n\\n')\n",
    "        \n",
    "        info = video['id']\n",
    "        information += '{\\n'\n",
    "        information += '\"' + 'ID\": ' + '\"' + str(info['videoId']) + '\",\\n'\n",
    "        \n",
    "        info = video['snippet']\n",
    "        information += '\"' + 'Title\": ' + '\"' + str(info['title']) + '\",\\n'\n",
    "        information += '\"' + 'Channel\": ' + '\"' + str(info['channelTitle']) + '\",\\n'\n",
    "        information += '\"' + 'Date\": ' + '\"' + str(info['publishedAt']) + '\",\\n'\n",
    "        information += '\"' + 'Description\": ' + '\"' + str(info['description']) + '\",\\n},\\n'\n",
    "    \n",
    "    information += ']'\n",
    "        \n",
    "    file = open('database/'+year+'/videos/'+keyword+'.json', 'w', encoding=\"utf8\")\n",
    "    file.write(information)\n",
    "    file.close()\n",
    "    \n",
    "    print('Information was stored in txt file')\n",
    "    \n",
    "    "
   ]
  },
  {
   "cell_type": "code",
   "execution_count": 20,
   "metadata": {},
   "outputs": [
    {
     "name": "stdout",
     "output_type": "stream",
     "text": [
      "50 videos selected\n",
      "Information was stored in txt file\n",
      "50 videos selected\n",
      "Information was stored in txt file\n",
      "50 videos selected\n",
      "Information was stored in txt file\n",
      "50 videos selected\n",
      "Information was stored in txt file\n",
      "50 videos selected\n",
      "Information was stored in txt file\n",
      "50 videos selected\n",
      "Information was stored in txt file\n",
      "50 videos selected\n",
      "Information was stored in txt file\n",
      "50 videos selected\n",
      "Information was stored in txt file\n",
      "50 videos selected\n",
      "Information was stored in txt file\n",
      "50 videos selected\n",
      "Information was stored in txt file\n",
      "50 videos selected\n",
      "Information was stored in txt file\n"
     ]
    }
   ],
   "source": [
    "keywords = ['joao amoedo','geraldo alckmin','alvaro dias','jair bolsonaro','guilherme boulos','ciro gomes','manuela avila',\n",
    "           'marina silva', 'lula pt', 'fernando haddad', 'general mourao']\n",
    "\n",
    "year = '2019'\n",
    "\n",
    "for keyword in keywords:\n",
    "    videos = select_videos(keyword, year)\n",
    "    collect_information(videos, keyword, year)"
   ]
  },
  {
   "cell_type": "code",
   "execution_count": null,
   "metadata": {},
   "outputs": [],
   "source": []
  }
 ],
 "metadata": {
  "kernelspec": {
   "display_name": "Python 3",
   "language": "python",
   "name": "python3"
  },
  "language_info": {
   "codemirror_mode": {
    "name": "ipython",
    "version": 3
   },
   "file_extension": ".py",
   "mimetype": "text/x-python",
   "name": "python",
   "nbconvert_exporter": "python",
   "pygments_lexer": "ipython3",
   "version": "3.7.6"
  }
 },
 "nbformat": 4,
 "nbformat_minor": 2
}
