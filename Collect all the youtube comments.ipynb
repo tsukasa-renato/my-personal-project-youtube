{
 "cells": [
  {
   "cell_type": "code",
   "execution_count": 1,
   "metadata": {},
   "outputs": [],
   "source": [
    "from youtube_api import YouTubeDataAPI\n",
    "import googleapiclient.discovery\n",
    "\n",
    "my_api_key = 'YOUR KEY'\n",
    "api_service_name = \"youtube\"\n",
    "api_version = \"v3\"\n",
    "\n",
    "youtube = googleapiclient.discovery.build(\n",
    "    api_service_name, api_version, developerKey = my_api_key)"
   ]
  },
  {
   "cell_type": "code",
   "execution_count": 36,
   "metadata": {},
   "outputs": [],
   "source": [
    "def save_comments(match, text_comments, date_comments, like_comments, autor_comments):\n",
    "    for item in match[\"items\"]:\n",
    "        comment = item[\"snippet\"][\"topLevelComment\"]\n",
    "        date = comment[\"snippet\"][\"updatedAt\"]\n",
    "        text = comment[\"snippet\"][\"textDisplay\"]\n",
    "        likes = comment[\"snippet\"][\"likeCount\"]\n",
    "        autor = comment['snippet']['authorDisplayName']\n",
    "        text_comments.append(text)\n",
    "        date_comments.append(date)\n",
    "        like_comments.append(likes)\n",
    "        autor_comments.append(autor)\n",
    "        if 'replies' in item.keys():\n",
    "            for reply in item['replies']['comments']:\n",
    "                rdate = reply['snippet']['updatedAt']\n",
    "                rtext = reply[\"snippet\"][\"textDisplay\"]\n",
    "                rlikes = reply[\"snippet\"][\"likeCount\"]\n",
    "                rautor = reply['snippet']['authorDisplayName']\n",
    "                text_comments.append(rtext)\n",
    "                date_comments.append(rdate)\n",
    "                like_comments.append(rlikes)\n",
    "                autor_comments.append(rautor)\n",
    "\n",
    "def collect_comments(youtube, video_id, next_page_token):\n",
    "    results = youtube.commentThreads().list(\n",
    "        part=\"snippet,replies\",\n",
    "        maxResults=100,\n",
    "        videoId= video_id,\n",
    "        textFormat=\"plainText\",\n",
    "        pageToken = next_page_token\n",
    "    ).execute()\n",
    "    return results\n"
   ]
  },
  {
   "cell_type": "code",
   "execution_count": 49,
   "metadata": {},
   "outputs": [],
   "source": [
    "def write_file(videos):\n",
    "    next_page_token = ''\n",
    "    i = 2\n",
    "    while i < 4:\n",
    "        text_comments = []\n",
    "        date_comments = []\n",
    "        like_comments = []\n",
    "        autor_comments = []\n",
    "\n",
    "        try:\n",
    "            while next_page_token or next_page_token == '':\n",
    "                results = collect_comments(youtube, videos[i][1], next_page_token)\n",
    "                next_page_token = results[\"nextPageToken\"]\n",
    "                save_comments(results, text_comments, date_comments, like_comments, autor_comments)\n",
    "        except KeyError:\n",
    "            print(len(text_comments))\n",
    "        except:\n",
    "            print(videos[1][i])\n",
    "\n",
    "        content_json = '[ \\n { \\n'\n",
    "        x = 0\n",
    "        while x < len(text_comments):\n",
    "            content_json += '{ \\n'\n",
    "            content_json += 'Autor do comentário: ' + autor_comments[x] + '\\n'\n",
    "            content_json += 'Texto do comentário: ' + text_comments[x] + '\\n'\n",
    "            content_json += 'Data: ' + date_comments[x] + '\\n'\n",
    "            content_json += 'Likes: ' + str(like_comments[x]) + '\\n'\n",
    "            content_json += '}, \\n'\n",
    "            x += 1\n",
    "\n",
    "        content_json += '} \\n ] \\n'\n",
    "        try:\n",
    "            file = open('database/2018/comments/'+videos[i][0]+'.json', 'w', encoding=\"utf8\")\n",
    "\n",
    "            file.write(content_json)\n",
    "\n",
    "            file.close()\n",
    "        except:\n",
    "            print(content_json)\n",
    "            print(video[0][i])\n",
    "    \n",
    "        i += 1"
   ]
  },
  {
   "cell_type": "code",
   "execution_count": 47,
   "metadata": {},
   "outputs": [
    {
     "data": {
      "text/plain": [
       "540"
      ]
     },
     "execution_count": 47,
     "metadata": {},
     "output_type": "execute_result"
    }
   ],
   "source": [
    "import pandas as pd\n",
    "\n",
    "videos = pd.read_csv('database/2018/videos.csv', encoding=\"utf8\")\n",
    "videos = videos.values.tolist()\n",
    "\n",
    "len(videos)"
   ]
  }
 ],
 "metadata": {
  "kernelspec": {
   "display_name": "Python 3",
   "language": "python",
   "name": "python3"
  },
  "language_info": {
   "codemirror_mode": {
    "name": "ipython",
    "version": 3
   },
   "file_extension": ".py",
   "mimetype": "text/x-python",
   "name": "python",
   "nbconvert_exporter": "python",
   "pygments_lexer": "ipython3",
   "version": "3.7.6"
  }
 },
 "nbformat": 4,
 "nbformat_minor": 2
}
