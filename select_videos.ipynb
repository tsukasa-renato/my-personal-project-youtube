{
 "cells": [
  {
   "cell_type": "code",
   "execution_count": 1,
   "metadata": {},
   "outputs": [],
   "source": [
    "import googleapiclient.discovery\n",
    "\n",
    "my_api_key = 'Your Key'\n",
    "api_service_name = 'youtube'\n",
    "api_version = 'v3'\n",
    "\n",
    "youtube = googleapiclient.discovery.build(\n",
    "    api_service_name, api_version, developerKey=my_api_key)"
   ]
  },
  {
   "cell_type": "code",
   "execution_count": 10,
   "metadata": {},
   "outputs": [],
   "source": [
    "def str_clear(text):\n",
    "    text = str(text)\n",
    "    return text.replace('\"', '')\n",
    "\n",
    "def collect_video_data(q, y):\n",
    "\n",
    "    \"\"\"\n",
    "    This function collects data from YouTube videos\n",
    "\n",
    "    :param q: words used to search for videos on Youtube\n",
    "    :param y: year\n",
    "    :return: Returns data from searched YouTube videos\n",
    "    \"\"\"\n",
    "\n",
    "    results = youtube.search().list(\n",
    "        part='snippet',\n",
    "        q=q,\n",
    "        type='video',\n",
    "        publishedAfter=y+'-01-01T00:00:00Z',\n",
    "        publishedBefore=y+'-12-31T00:00:00Z',\n",
    "        order='viewCount',\n",
    "        maxResults=50\n",
    "                               ).execute()\n",
    "\n",
    "    print('50 videos returned')\n",
    "    \n",
    "    return results\n",
    "\n",
    "\n",
    "def format_information(video_list, name):\n",
    "\n",
    "    \"\"\"\n",
    "    This function formats the information of the collected videos and writes them to a JSON file\n",
    "\n",
    "    :param video_list: Youtube video data\n",
    "    :param name: name of the JSON file\n",
    "    :return: JSON file\n",
    "    \"\"\"\n",
    "    \n",
    "    text = '['\n",
    "    \n",
    "    for video in video_list['items']:\n",
    "        \n",
    "        info = video['id']\n",
    "        text += '{'\n",
    "        text += '\"' + 'ID\":' + '\"' + str_clear(info['videoId']) + '\",'\n",
    "        \n",
    "        info = video['snippet']\n",
    "        text += '\"' + 'Title\":' + '\"' + str_clear(info['title']) + '\",'\n",
    "        text += '\"' + 'Channel\":' + '\"' + str_clear(info['channelTitle']) + '\",'\n",
    "        text += '\"' + 'Date\":' + '\"' + str_clear(info['publishedAt']) + '\",'\n",
    "        text += '\"' + 'Description\":' + '\"' + str_clear(info['description']) + '\",},'\n",
    "    \n",
    "    text += ']'\n",
    "        \n",
    "    with open('database/videos/'+name+'.json', 'w', encoding=\"utf8\") as file:\n",
    "        file.write(text)\n",
    "    \n",
    "    print('Information was stored in json file')"
   ]
  },
  {
   "cell_type": "code",
   "execution_count": 12,
   "metadata": {},
   "outputs": [
    {
     "name": "stdout",
     "output_type": "stream",
     "text": [
      "50 videos returned\n",
      "Information was stored in json file\n",
      "50 videos returned\n",
      "Information was stored in json file\n",
      "50 videos returned\n",
      "Information was stored in json file\n",
      "50 videos returned\n",
      "Information was stored in json file\n",
      "50 videos returned\n",
      "Information was stored in json file\n",
      "50 videos returned\n",
      "Information was stored in json file\n",
      "50 videos returned\n",
      "Information was stored in json file\n"
     ]
    }
   ],
   "source": [
    "words = ['jair bolsonaro', 'fernando haddad', 'ciro gomes', 'geraldo alckmin', 'joão amoêdo', 'guilherme boulos',\n",
    "         'manuela d avila']\n",
    "\n",
    "year = '2018'\n",
    "\n",
    "for word in words:\n",
    "    videos = collect_video_data(word, year)\n",
    "    format_information(videos, word)"
   ]
  },
  {
   "cell_type": "code",
   "execution_count": null,
   "metadata": {},
   "outputs": [],
   "source": []
  }
 ],
 "metadata": {
  "kernelspec": {
   "display_name": "Python 3",
   "language": "python",
   "name": "python3"
  },
  "language_info": {
   "codemirror_mode": {
    "name": "ipython",
    "version": 3
   },
   "file_extension": ".py",
   "mimetype": "text/x-python",
   "name": "python",
   "nbconvert_exporter": "python",
   "pygments_lexer": "ipython3",
   "version": "3.8.3"
  }
 },
 "nbformat": 4,
 "nbformat_minor": 4
}
